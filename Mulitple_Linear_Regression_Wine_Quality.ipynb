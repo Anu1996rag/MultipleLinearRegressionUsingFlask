{
 "cells": [
  {
   "cell_type": "code",
   "execution_count": 1,
   "metadata": {},
   "outputs": [],
   "source": [
    "import numpy as np \n",
    "import pandas as pd\n",
    "import matplotlib.pyplot as plt\n",
    "import seaborn as sns\n",
    "import pickle\n",
    "sns.set()"
   ]
  },
  {
   "cell_type": "code",
   "execution_count": 2,
   "metadata": {},
   "outputs": [
    {
     "data": {
      "text/html": [
       "<div>\n",
       "<style scoped>\n",
       "    .dataframe tbody tr th:only-of-type {\n",
       "        vertical-align: middle;\n",
       "    }\n",
       "\n",
       "    .dataframe tbody tr th {\n",
       "        vertical-align: top;\n",
       "    }\n",
       "\n",
       "    .dataframe thead th {\n",
       "        text-align: right;\n",
       "    }\n",
       "</style>\n",
       "<table border=\"1\" class=\"dataframe\">\n",
       "  <thead>\n",
       "    <tr style=\"text-align: right;\">\n",
       "      <th></th>\n",
       "      <th>fixed acidity</th>\n",
       "      <th>volatile acidity</th>\n",
       "      <th>citric acid</th>\n",
       "      <th>residual sugar</th>\n",
       "      <th>chlorides</th>\n",
       "      <th>free sulfur dioxide</th>\n",
       "      <th>total sulfur dioxide</th>\n",
       "      <th>density</th>\n",
       "      <th>pH</th>\n",
       "      <th>sulphates</th>\n",
       "      <th>alcohol</th>\n",
       "      <th>quality</th>\n",
       "    </tr>\n",
       "  </thead>\n",
       "  <tbody>\n",
       "    <tr>\n",
       "      <th>0</th>\n",
       "      <td>7.4</td>\n",
       "      <td>0.70</td>\n",
       "      <td>0.00</td>\n",
       "      <td>1.9</td>\n",
       "      <td>0.076</td>\n",
       "      <td>11.0</td>\n",
       "      <td>34.0</td>\n",
       "      <td>0.9978</td>\n",
       "      <td>3.51</td>\n",
       "      <td>0.56</td>\n",
       "      <td>9.4</td>\n",
       "      <td>5</td>\n",
       "    </tr>\n",
       "    <tr>\n",
       "      <th>1</th>\n",
       "      <td>7.8</td>\n",
       "      <td>0.88</td>\n",
       "      <td>0.00</td>\n",
       "      <td>2.6</td>\n",
       "      <td>0.098</td>\n",
       "      <td>25.0</td>\n",
       "      <td>67.0</td>\n",
       "      <td>0.9968</td>\n",
       "      <td>3.20</td>\n",
       "      <td>0.68</td>\n",
       "      <td>9.8</td>\n",
       "      <td>5</td>\n",
       "    </tr>\n",
       "    <tr>\n",
       "      <th>2</th>\n",
       "      <td>7.8</td>\n",
       "      <td>0.76</td>\n",
       "      <td>0.04</td>\n",
       "      <td>2.3</td>\n",
       "      <td>0.092</td>\n",
       "      <td>15.0</td>\n",
       "      <td>54.0</td>\n",
       "      <td>0.9970</td>\n",
       "      <td>3.26</td>\n",
       "      <td>0.65</td>\n",
       "      <td>9.8</td>\n",
       "      <td>5</td>\n",
       "    </tr>\n",
       "    <tr>\n",
       "      <th>3</th>\n",
       "      <td>11.2</td>\n",
       "      <td>0.28</td>\n",
       "      <td>0.56</td>\n",
       "      <td>1.9</td>\n",
       "      <td>0.075</td>\n",
       "      <td>17.0</td>\n",
       "      <td>60.0</td>\n",
       "      <td>0.9980</td>\n",
       "      <td>3.16</td>\n",
       "      <td>0.58</td>\n",
       "      <td>9.8</td>\n",
       "      <td>6</td>\n",
       "    </tr>\n",
       "    <tr>\n",
       "      <th>4</th>\n",
       "      <td>7.4</td>\n",
       "      <td>0.70</td>\n",
       "      <td>0.00</td>\n",
       "      <td>1.9</td>\n",
       "      <td>0.076</td>\n",
       "      <td>11.0</td>\n",
       "      <td>34.0</td>\n",
       "      <td>0.9978</td>\n",
       "      <td>3.51</td>\n",
       "      <td>0.56</td>\n",
       "      <td>9.4</td>\n",
       "      <td>5</td>\n",
       "    </tr>\n",
       "  </tbody>\n",
       "</table>\n",
       "</div>"
      ],
      "text/plain": [
       "   fixed acidity  volatile acidity  citric acid  residual sugar  chlorides  \\\n",
       "0            7.4              0.70         0.00             1.9      0.076   \n",
       "1            7.8              0.88         0.00             2.6      0.098   \n",
       "2            7.8              0.76         0.04             2.3      0.092   \n",
       "3           11.2              0.28         0.56             1.9      0.075   \n",
       "4            7.4              0.70         0.00             1.9      0.076   \n",
       "\n",
       "   free sulfur dioxide  total sulfur dioxide  density    pH  sulphates  \\\n",
       "0                 11.0                  34.0   0.9978  3.51       0.56   \n",
       "1                 25.0                  67.0   0.9968  3.20       0.68   \n",
       "2                 15.0                  54.0   0.9970  3.26       0.65   \n",
       "3                 17.0                  60.0   0.9980  3.16       0.58   \n",
       "4                 11.0                  34.0   0.9978  3.51       0.56   \n",
       "\n",
       "   alcohol  quality  \n",
       "0      9.4        5  \n",
       "1      9.8        5  \n",
       "2      9.8        5  \n",
       "3      9.8        6  \n",
       "4      9.4        5  "
      ]
     },
     "execution_count": 2,
     "metadata": {},
     "output_type": "execute_result"
    }
   ],
   "source": [
    "data = pd.read_csv('winequality-red.csv')\n",
    "data.head()"
   ]
  },
  {
   "cell_type": "code",
   "execution_count": 3,
   "metadata": {},
   "outputs": [
    {
     "data": {
      "text/plain": [
       "<matplotlib.axes._subplots.AxesSubplot at 0x25e26a6aa48>"
      ]
     },
     "execution_count": 3,
     "metadata": {},
     "output_type": "execute_result"
    },
    {
     "data": {
      "image/png": "[encoded data removed]",
      "text/plain": [
       "<Figure size 432x288 with 2 Axes>"
      ]
     },
     "metadata": {},
     "output_type": "display_data"
    }
   ],
   "source": [
    "#determining correlation between different variables\n",
    "\n",
    "sns.heatmap(data.corr(),cmap='coolwarm',cbar=True)"
   ]
  },
  {
   "cell_type": "code",
   "execution_count": 4,
   "metadata": {},
   "outputs": [
    {
     "data": {
      "text/plain": [
       "fixed acidity           0\n",
       "volatile acidity        0\n",
       "citric acid             0\n",
       "residual sugar          0\n",
       "chlorides               0\n",
       "free sulfur dioxide     0\n",
       "total sulfur dioxide    0\n",
       "density                 0\n",
       "pH                      0\n",
       "sulphates               0\n",
       "alcohol                 0\n",
       "quality                 0\n",
       "dtype: int64"
      ]
     },
     "execution_count": 4,
     "metadata": {},
     "output_type": "execute_result"
    }
   ],
   "source": [
    "data.isnull().sum()"
   ]
  },
  {
   "cell_type": "code",
   "execution_count": 5,
   "metadata": {},
   "outputs": [
    {
     "data": {
      "text/html": [
       "<div>\n",
       "<style scoped>\n",
       "    .dataframe tbody tr th:only-of-type {\n",
       "        vertical-align: middle;\n",
       "    }\n",
       "\n",
       "    .dataframe tbody tr th {\n",
       "        vertical-align: top;\n",
       "    }\n",
       "\n",
       "    .dataframe thead th {\n",
       "        text-align: right;\n",
       "    }\n",
       "</style>\n",
       "<table border=\"1\" class=\"dataframe\">\n",
       "  <thead>\n",
       "    <tr style=\"text-align: right;\">\n",
       "      <th></th>\n",
       "      <th>fixed acidity</th>\n",
       "      <th>volatile acidity</th>\n",
       "      <th>citric acid</th>\n",
       "      <th>residual sugar</th>\n",
       "      <th>chlorides</th>\n",
       "      <th>free sulfur dioxide</th>\n",
       "      <th>total sulfur dioxide</th>\n",
       "      <th>density</th>\n",
       "      <th>pH</th>\n",
       "      <th>sulphates</th>\n",
       "      <th>alcohol</th>\n",
       "      <th>quality</th>\n",
       "    </tr>\n",
       "  </thead>\n",
       "  <tbody>\n",
       "    <tr>\n",
       "      <th>count</th>\n",
       "      <td>1599.000000</td>\n",
       "      <td>1599.000000</td>\n",
       "      <td>1599.000000</td>\n",
       "      <td>1599.000000</td>\n",
       "      <td>1599.000000</td>\n",
       "      <td>1599.000000</td>\n",
       "      <td>1599.000000</td>\n",
       "      <td>1599.000000</td>\n",
       "      <td>1599.000000</td>\n",
       "      <td>1599.000000</td>\n",
       "      <td>1599.000000</td>\n",
       "      <td>1599.000000</td>\n",
       "    </tr>\n",
       "    <tr>\n",
       "      <th>mean</th>\n",
       "      <td>8.319637</td>\n",
       "      <td>0.527821</td>\n",
       "      <td>0.270976</td>\n",
       "      <td>2.538806</td>\n",
       "      <td>0.087467</td>\n",
       "      <td>15.874922</td>\n",
       "      <td>46.467792</td>\n",
       "      <td>0.996747</td>\n",
       "      <td>3.311113</td>\n",
       "      <td>0.658149</td>\n",
       "      <td>10.422983</td>\n",
       "      <td>5.636023</td>\n",
       "    </tr>\n",
       "    <tr>\n",
       "      <th>std</th>\n",
       "      <td>1.741096</td>\n",
       "      <td>0.179060</td>\n",
       "      <td>0.194801</td>\n",
       "      <td>1.409928</td>\n",
       "      <td>0.047065</td>\n",
       "      <td>10.460157</td>\n",
       "      <td>32.895324</td>\n",
       "      <td>0.001887</td>\n",
       "      <td>0.154386</td>\n",
       "      <td>0.169507</td>\n",
       "      <td>1.065668</td>\n",
       "      <td>0.807569</td>\n",
       "    </tr>\n",
       "    <tr>\n",
       "      <th>min</th>\n",
       "      <td>4.600000</td>\n",
       "      <td>0.120000</td>\n",
       "      <td>0.000000</td>\n",
       "      <td>0.900000</td>\n",
       "      <td>0.012000</td>\n",
       "      <td>1.000000</td>\n",
       "      <td>6.000000</td>\n",
       "      <td>0.990070</td>\n",
       "      <td>2.740000</td>\n",
       "      <td>0.330000</td>\n",
       "      <td>8.400000</td>\n",
       "      <td>3.000000</td>\n",
       "    </tr>\n",
       "    <tr>\n",
       "      <th>25%</th>\n",
       "      <td>7.100000</td>\n",
       "      <td>0.390000</td>\n",
       "      <td>0.090000</td>\n",
       "      <td>1.900000</td>\n",
       "      <td>0.070000</td>\n",
       "      <td>7.000000</td>\n",
       "      <td>22.000000</td>\n",
       "      <td>0.995600</td>\n",
       "      <td>3.210000</td>\n",
       "      <td>0.550000</td>\n",
       "      <td>9.500000</td>\n",
       "      <td>5.000000</td>\n",
       "    </tr>\n",
       "    <tr>\n",
       "      <th>50%</th>\n",
       "      <td>7.900000</td>\n",
       "      <td>0.520000</td>\n",
       "      <td>0.260000</td>\n",
       "      <td>2.200000</td>\n",
       "      <td>0.079000</td>\n",
       "      <td>14.000000</td>\n",
       "      <td>38.000000</td>\n",
       "      <td>0.996750</td>\n",
       "      <td>3.310000</td>\n",
       "      <td>0.620000</td>\n",
       "      <td>10.200000</td>\n",
       "      <td>6.000000</td>\n",
       "    </tr>\n",
       "    <tr>\n",
       "      <th>75%</th>\n",
       "      <td>9.200000</td>\n",
       "      <td>0.640000</td>\n",
       "      <td>0.420000</td>\n",
       "      <td>2.600000</td>\n",
       "      <td>0.090000</td>\n",
       "      <td>21.000000</td>\n",
       "      <td>62.000000</td>\n",
       "      <td>0.997835</td>\n",
       "      <td>3.400000</td>\n",
       "      <td>0.730000</td>\n",
       "      <td>11.100000</td>\n",
       "      <td>6.000000</td>\n",
       "    </tr>\n",
       "    <tr>\n",
       "      <th>max</th>\n",
       "      <td>15.900000</td>\n",
       "      <td>1.580000</td>\n",
       "      <td>1.000000</td>\n",
       "      <td>15.500000</td>\n",
       "      <td>0.611000</td>\n",
       "      <td>72.000000</td>\n",
       "      <td>289.000000</td>\n",
       "      <td>1.003690</td>\n",
       "      <td>4.010000</td>\n",
       "      <td>2.000000</td>\n",
       "      <td>14.900000</td>\n",
       "      <td>8.000000</td>\n",
       "    </tr>\n",
       "  </tbody>\n",
       "</table>\n",
       "</div>"
      ],
      "text/plain": [
       "       fixed acidity  volatile acidity  citric acid  residual sugar  \\\n",
       "count    1599.000000       1599.000000  1599.000000     1599.000000   \n",
       "mean        8.319637          0.527821     0.270976        2.538806   \n",
       "std         1.741096          0.179060     0.194801        1.409928   \n",
       "min         4.600000          0.120000     0.000000        0.900000   \n",
       "25%         7.100000          0.390000     0.090000        1.900000   \n",
       "50%         7.900000          0.520000     0.260000        2.200000   \n",
       "75%         9.200000          0.640000     0.420000        2.600000   \n",
       "max        15.900000          1.580000     1.000000       15.500000   \n",
       "\n",
       "         chlorides  free sulfur dioxide  total sulfur dioxide      density  \\\n",
       "count  1599.000000          1599.000000           1599.000000  1599.000000   \n",
       "mean      0.087467            15.874922             46.467792     0.996747   \n",
       "std       0.047065            10.460157             32.895324     0.001887   \n",
       "min       0.012000             1.000000              6.000000     0.990070   \n",
       "25%       0.070000             7.000000             22.000000     0.995600   \n",
       "50%       0.079000            14.000000             38.000000     0.996750   \n",
       "75%       0.090000            21.000000             62.000000     0.997835   \n",
       "max       0.611000            72.000000            289.000000     1.003690   \n",
       "\n",
       "                pH    sulphates      alcohol      quality  \n",
       "count  1599.000000  1599.000000  1599.000000  1599.000000  \n",
       "mean      3.311113     0.658149    10.422983     5.636023  \n",
       "std       0.154386     0.169507     1.065668     0.807569  \n",
       "min       2.740000     0.330000     8.400000     3.000000  \n",
       "25%       3.210000     0.550000     9.500000     5.000000  \n",
       "50%       3.310000     0.620000    10.200000     6.000000  \n",
       "75%       3.400000     0.730000    11.100000     6.000000  \n",
       "max       4.010000     2.000000    14.900000     8.000000  "
      ]
     },
     "execution_count": 5,
     "metadata": {},
     "output_type": "execute_result"
    }
   ],
   "source": [
    "data.describe()"
   ]
  },
  {
   "cell_type": "code",
   "execution_count": 34,
   "metadata": {},
   "outputs": [
    {
     "ename": "TypeError",
     "evalue": "only integer scalar arrays can be converted to a scalar index",
     "output_type": "error",
     "traceback": [
      "\u001b[1;31m---------------------------------------------------------------------------\u001b[0m",
      "\u001b[1;31mTypeError\u001b[0m                                 Traceback (most recent call last)",
      "\u001b[1;32m<ipython-input-34-d0953c45c89d>\u001b[0m in \u001b[0;36m<module>\u001b[1;34m\u001b[0m\n\u001b[1;32m----> 1\u001b[1;33m \u001b[0mx\u001b[0m \u001b[1;33m=\u001b[0m \u001b[0mdata\u001b[0m\u001b[1;33m.\u001b[0m\u001b[0miloc\u001b[0m\u001b[1;33m[\u001b[0m\u001b[1;33m:\u001b[0m\u001b[1;33m,\u001b[0m\u001b[1;33m:\u001b[0m\u001b[1;33m-\u001b[0m\u001b[1;36m1\u001b[0m\u001b[1;33m]\u001b[0m\u001b[1;33m.\u001b[0m\u001b[0mvalues\u001b[0m\u001b[1;33m.\u001b[0m\u001b[0mreshape\u001b[0m\u001b[1;33m(\u001b[0m\u001b[0mx\u001b[0m\u001b[1;33m[\u001b[0m\u001b[1;36m0\u001b[0m\u001b[1;33m]\u001b[0m\u001b[1;33m,\u001b[0m\u001b[1;36m1\u001b[0m\u001b[1;33m)\u001b[0m \u001b[1;31m#mulitple independent variable\u001b[0m\u001b[1;33m\u001b[0m\u001b[1;33m\u001b[0m\u001b[0m\n\u001b[0m\u001b[0;32m      2\u001b[0m \u001b[0my\u001b[0m \u001b[1;33m=\u001b[0m \u001b[0mdata\u001b[0m\u001b[1;33m.\u001b[0m\u001b[0miloc\u001b[0m\u001b[1;33m[\u001b[0m\u001b[1;33m:\u001b[0m\u001b[1;33m,\u001b[0m\u001b[1;36m11\u001b[0m\u001b[1;33m]\u001b[0m\u001b[1;33m.\u001b[0m\u001b[0mvalues\u001b[0m\u001b[1;33m.\u001b[0m\u001b[0mreshape\u001b[0m\u001b[1;33m(\u001b[0m\u001b[1;33m-\u001b[0m\u001b[1;36m1\u001b[0m\u001b[1;33m,\u001b[0m\u001b[1;36m1\u001b[0m\u001b[1;33m)\u001b[0m   \u001b[1;31m# single dependent variable\u001b[0m\u001b[1;33m\u001b[0m\u001b[1;33m\u001b[0m\u001b[0m\n\u001b[0;32m      3\u001b[0m \u001b[0mx\u001b[0m\u001b[1;33m\u001b[0m\u001b[1;33m\u001b[0m\u001b[0m\n",
      "\u001b[1;31mTypeError\u001b[0m: only integer scalar arrays can be converted to a scalar index"
     ]
    }
   ],
   "source": [
    "x = data.iloc[:,:-1].values#mulitple independent variable\n",
    "y = data.iloc[:,11].values.reshape(-1,1)   # single dependent variable\n",
    "x"
   ]
  },
  {
   "cell_type": "code",
   "execution_count": 35,
   "metadata": {},
   "outputs": [
    {
     "data": {
      "text/plain": [
       "(1599, 11)"
      ]
     },
     "execution_count": 35,
     "metadata": {},
     "output_type": "execute_result"
    }
   ],
   "source": [
    "x.shape"
   ]
  },
  {
   "cell_type": "code",
   "execution_count": 7,
   "metadata": {},
   "outputs": [
    {
     "data": {
      "text/plain": [
       "array([[5],\n",
       "       [5],\n",
       "       [5],\n",
       "       ...,\n",
       "       [6],\n",
       "       [5],\n",
       "       [6]], dtype=int64)"
      ]
     },
     "execution_count": 7,
     "metadata": {},
     "output_type": "execute_result"
    }
   ],
   "source": [
    "y"
   ]
  },
  {
   "cell_type": "code",
   "execution_count": 8,
   "metadata": {},
   "outputs": [],
   "source": [
    "#splitting data\n",
    "from sklearn.model_selection import train_test_split\n",
    "X_train , X_test , y_train , y_test = train_test_split(x,y,test_size = 0.25,random_state=0)"
   ]
  },
  {
   "cell_type": "code",
   "execution_count": 9,
   "metadata": {},
   "outputs": [
    {
     "data": {
      "text/plain": [
       "LinearRegression(copy_X=True, fit_intercept=True, n_jobs=None, normalize=False)"
      ]
     },
     "execution_count": 9,
     "metadata": {},
     "output_type": "execute_result"
    }
   ],
   "source": [
    "#fitting the model \n",
    "from sklearn.linear_model import LinearRegression\n",
    "\n",
    "reg_model = LinearRegression()  #creating object of the class LinearRegression\n",
    "reg_model.fit(X_train,y_train)"
   ]
  },
  {
   "cell_type": "markdown",
   "metadata": {},
   "source": [
    "#### Saving the model in pickle file "
   ]
  },
  {
   "cell_type": "code",
   "execution_count": 10,
   "metadata": {},
   "outputs": [],
   "source": [
    "pickle.dump(reg_model,open('regression_model.pkl','wb'))"
   ]
  },
  {
   "cell_type": "code",
   "execution_count": 11,
   "metadata": {},
   "outputs": [
    {
     "data": {
      "text/plain": [
       "array([[ 2.26672740e-02, -1.20925090e+00, -1.56071111e-01,\n",
       "         2.24812025e-02, -1.83856252e+00,  2.65152304e-03,\n",
       "        -2.89528187e-03, -1.98023975e+01, -3.83857411e-01,\n",
       "         8.55722787e-01,  2.66919946e-01]])"
      ]
     },
     "execution_count": 11,
     "metadata": {},
     "output_type": "execute_result"
    }
   ],
   "source": [
    "reg_model.coef_"
   ]
  },
  {
   "cell_type": "code",
   "execution_count": 12,
   "metadata": {},
   "outputs": [
    {
     "data": {
      "text/plain": [
       "array([24.00118149])"
      ]
     },
     "execution_count": 12,
     "metadata": {},
     "output_type": "execute_result"
    }
   ],
   "source": [
    "reg_model.intercept_"
   ]
  },
  {
   "cell_type": "code",
   "execution_count": 13,
   "metadata": {},
   "outputs": [
    {
     "data": {
      "text/plain": [
       "(400, 11)"
      ]
     },
     "execution_count": 13,
     "metadata": {},
     "output_type": "execute_result"
    }
   ],
   "source": [
    "X_test.shape"
   ]
  },
  {
   "cell_type": "code",
   "execution_count": 14,
   "metadata": {},
   "outputs": [],
   "source": [
    "prediction = reg_model.predict(X_test)"
   ]
  },
  {
   "cell_type": "code",
   "execution_count": 15,
   "metadata": {},
   "outputs": [
    {
     "data": {
      "text/plain": [
       "array([[5.77335196],\n",
       "       [5.03615149],\n",
       "       [6.57566313],\n",
       "       [5.35700313],\n",
       "       [5.91383789],\n",
       "       [5.03736175],\n",
       "       [5.39845825],\n",
       "       [6.0205325 ],\n",
       "       [4.84470033],\n",
       "       [4.96377752],\n",
       "       [5.31578704],\n",
       "       [5.4328033 ],\n",
       "       [5.72093212],\n",
       "       [5.06318245],\n",
       "       [5.53377735],\n",
       "       [6.36957899],\n",
       "       [6.78850337],\n",
       "       [5.7755736 ],\n",
       "       [5.94557484],\n",
       "       [5.09751407],\n",
       "       [6.30781709],\n",
       "       [5.18258948],\n",
       "       [5.64391993],\n",
       "       [6.13206845],\n",
       "       [5.50536664],\n",
       "       [5.03379161],\n",
       "       [5.19100506],\n",
       "       [6.48646495],\n",
       "       [5.35086453],\n",
       "       [6.23648567],\n",
       "       [6.06101651],\n",
       "       [5.84578611],\n",
       "       [5.56795505],\n",
       "       [5.27877839],\n",
       "       [5.72323541],\n",
       "       [6.17053915],\n",
       "       [5.15162762],\n",
       "       [5.4592767 ],\n",
       "       [6.36154344],\n",
       "       [5.79027666],\n",
       "       [5.45018097],\n",
       "       [6.04540865],\n",
       "       [6.6570408 ],\n",
       "       [6.55076451],\n",
       "       [5.99011519],\n",
       "       [4.79867523],\n",
       "       [5.51492895],\n",
       "       [6.01737155],\n",
       "       [5.48325903],\n",
       "       [6.10510022],\n",
       "       [5.34666298],\n",
       "       [5.34549898],\n",
       "       [5.771762  ],\n",
       "       [6.33231835],\n",
       "       [5.72577071],\n",
       "       [5.25508519],\n",
       "       [5.08753011],\n",
       "       [5.31883159],\n",
       "       [6.48399778],\n",
       "       [5.44565102],\n",
       "       [5.14951232],\n",
       "       [5.77938943],\n",
       "       [6.07680959],\n",
       "       [6.29296583],\n",
       "       [5.07412674],\n",
       "       [6.11160214],\n",
       "       [5.3654078 ],\n",
       "       [5.98843822],\n",
       "       [6.11581568],\n",
       "       [6.01200345],\n",
       "       [5.32990009],\n",
       "       [5.48206037],\n",
       "       [5.06787347],\n",
       "       [5.60174842],\n",
       "       [5.6393655 ],\n",
       "       [6.22053497],\n",
       "       [5.39639211],\n",
       "       [5.34047645],\n",
       "       [5.70921265],\n",
       "       [6.3000324 ],\n",
       "       [5.71255247],\n",
       "       [5.2890333 ],\n",
       "       [5.90374113],\n",
       "       [6.10378264],\n",
       "       [5.50812757],\n",
       "       [5.3737914 ],\n",
       "       [6.21717725],\n",
       "       [5.08351571],\n",
       "       [5.33686241],\n",
       "       [4.97571714],\n",
       "       [5.16953737],\n",
       "       [5.33104972],\n",
       "       [5.7863166 ],\n",
       "       [5.41737027],\n",
       "       [6.21214764],\n",
       "       [5.32990009],\n",
       "       [6.30755869],\n",
       "       [5.36552531],\n",
       "       [5.46222136],\n",
       "       [5.92343731],\n",
       "       [6.83289853],\n",
       "       [6.00829822],\n",
       "       [5.76675413],\n",
       "       [6.32428926],\n",
       "       [5.61448901],\n",
       "       [4.95981193],\n",
       "       [5.61448901],\n",
       "       [5.41962081],\n",
       "       [5.99627866],\n",
       "       [5.26984625],\n",
       "       [5.85075489],\n",
       "       [5.13588325],\n",
       "       [6.26026555],\n",
       "       [5.03018053],\n",
       "       [5.59199004],\n",
       "       [5.77569028],\n",
       "       [5.67409011],\n",
       "       [6.3923588 ],\n",
       "       [5.76112489],\n",
       "       [5.64391993],\n",
       "       [5.14043993],\n",
       "       [5.91401777],\n",
       "       [5.42381917],\n",
       "       [5.10609517],\n",
       "       [6.18326049],\n",
       "       [6.29572432],\n",
       "       [5.32290941],\n",
       "       [5.4522265 ],\n",
       "       [6.02011728],\n",
       "       [6.43060146],\n",
       "       [5.44670284],\n",
       "       [5.22390725],\n",
       "       [6.0118201 ],\n",
       "       [5.82373062],\n",
       "       [6.27973634],\n",
       "       [5.29094837],\n",
       "       [5.88230527],\n",
       "       [5.2842764 ],\n",
       "       [6.0839227 ],\n",
       "       [5.3616964 ],\n",
       "       [5.97694786],\n",
       "       [5.10484664],\n",
       "       [5.51492895],\n",
       "       [5.25404631],\n",
       "       [5.64077488],\n",
       "       [5.72630941],\n",
       "       [6.26026555],\n",
       "       [6.38384543],\n",
       "       [6.23913335],\n",
       "       [5.31264892],\n",
       "       [5.92530071],\n",
       "       [5.93550128],\n",
       "       [5.41962081],\n",
       "       [5.51089486],\n",
       "       [5.51793047],\n",
       "       [5.39750826],\n",
       "       [5.08785692],\n",
       "       [5.36745921],\n",
       "       [6.20646484],\n",
       "       [6.05726624],\n",
       "       [5.92296528],\n",
       "       [5.59496124],\n",
       "       [6.2591032 ],\n",
       "       [5.12998078],\n",
       "       [5.90515397],\n",
       "       [5.02638204],\n",
       "       [5.98935027],\n",
       "       [6.46669081],\n",
       "       [5.48994048],\n",
       "       [5.94653818],\n",
       "       [5.95753144],\n",
       "       [5.53072501],\n",
       "       [5.01124857],\n",
       "       [6.61659911],\n",
       "       [5.79395336],\n",
       "       [6.29846482],\n",
       "       [6.19110384],\n",
       "       [6.78703683],\n",
       "       [6.04796589],\n",
       "       [4.82577488],\n",
       "       [5.10949421],\n",
       "       [6.93679333],\n",
       "       [5.48002856],\n",
       "       [6.13280349],\n",
       "       [6.77004134],\n",
       "       [5.02430499],\n",
       "       [5.68222443],\n",
       "       [5.76675413],\n",
       "       [4.99672706],\n",
       "       [6.14458879],\n",
       "       [6.049361  ],\n",
       "       [5.90561771],\n",
       "       [5.20820513],\n",
       "       [5.49045636],\n",
       "       [5.17450554],\n",
       "       [5.16868807],\n",
       "       [5.31578704],\n",
       "       [5.12677309],\n",
       "       [5.25362472],\n",
       "       [5.12603276],\n",
       "       [5.28855086],\n",
       "       [6.14098574],\n",
       "       [5.17558897],\n",
       "       [5.29862848],\n",
       "       [5.41258492],\n",
       "       [4.95091619],\n",
       "       [5.10248547],\n",
       "       [6.31055426],\n",
       "       [6.02539347],\n",
       "       [5.43163141],\n",
       "       [5.9257461 ],\n",
       "       [6.16842528],\n",
       "       [5.35067591],\n",
       "       [6.33847859],\n",
       "       [5.01303422],\n",
       "       [5.44754333],\n",
       "       [5.91378927],\n",
       "       [6.05936929],\n",
       "       [5.55749874],\n",
       "       [5.0134601 ],\n",
       "       [5.03823491],\n",
       "       [5.93328762],\n",
       "       [6.37900932],\n",
       "       [5.75677935],\n",
       "       [5.43326601],\n",
       "       [5.99717274],\n",
       "       [6.36726549],\n",
       "       [5.76346251],\n",
       "       [4.8469618 ],\n",
       "       [5.47962741],\n",
       "       [5.03369062],\n",
       "       [5.8863899 ],\n",
       "       [5.05081184],\n",
       "       [5.84064583],\n",
       "       [6.2804346 ],\n",
       "       [5.62509974],\n",
       "       [6.0971013 ],\n",
       "       [6.55684976],\n",
       "       [6.51241389],\n",
       "       [6.11359831],\n",
       "       [5.34678946],\n",
       "       [4.91923971],\n",
       "       [5.03823601],\n",
       "       [5.11246803],\n",
       "       [5.95156254],\n",
       "       [4.84180776],\n",
       "       [5.60693818],\n",
       "       [5.22873677],\n",
       "       [4.86906355],\n",
       "       [6.31448147],\n",
       "       [4.8965848 ],\n",
       "       [5.2767101 ],\n",
       "       [4.89833349],\n",
       "       [5.34192074],\n",
       "       [5.53747945],\n",
       "       [5.53961385],\n",
       "       [5.14040648],\n",
       "       [5.06138694],\n",
       "       [5.13665245],\n",
       "       [5.58884754],\n",
       "       [5.33920142],\n",
       "       [6.90988003],\n",
       "       [5.3496627 ],\n",
       "       [5.66535408],\n",
       "       [5.24847699],\n",
       "       [4.70130549],\n",
       "       [5.31489573],\n",
       "       [4.98955762],\n",
       "       [5.60099658],\n",
       "       [6.48355121],\n",
       "       [5.7477074 ],\n",
       "       [5.75052212],\n",
       "       [5.67710696],\n",
       "       [6.04128731],\n",
       "       [5.92045077],\n",
       "       [5.82626866],\n",
       "       [6.38256729],\n",
       "       [5.20345407],\n",
       "       [6.57271013],\n",
       "       [6.12839439],\n",
       "       [5.3950266 ],\n",
       "       [6.89396716],\n",
       "       [5.75052212],\n",
       "       [6.30425142],\n",
       "       [5.82268296],\n",
       "       [5.17456429],\n",
       "       [5.59124582],\n",
       "       [5.35818249],\n",
       "       [6.25073591],\n",
       "       [5.88995991],\n",
       "       [5.68329188],\n",
       "       [5.38024407],\n",
       "       [6.1315531 ],\n",
       "       [5.34484562],\n",
       "       [5.19636916],\n",
       "       [5.69695783],\n",
       "       [5.58128225],\n",
       "       [5.17314863],\n",
       "       [5.14817209],\n",
       "       [5.28286493],\n",
       "       [5.68410381],\n",
       "       [5.04287306],\n",
       "       [5.39389776],\n",
       "       [5.73276161],\n",
       "       [6.11450976],\n",
       "       [5.81347799],\n",
       "       [5.33053145],\n",
       "       [5.0430436 ],\n",
       "       [5.60428637],\n",
       "       [5.30388559],\n",
       "       [5.91847313],\n",
       "       [5.92711689],\n",
       "       [5.34930053],\n",
       "       [5.36552531],\n",
       "       [5.09475505],\n",
       "       [6.55850851],\n",
       "       [6.02141354],\n",
       "       [6.24720611],\n",
       "       [5.16429829],\n",
       "       [6.38194314],\n",
       "       [5.30388559],\n",
       "       [5.81248399],\n",
       "       [6.13148062],\n",
       "       [5.94475158],\n",
       "       [5.42524894],\n",
       "       [5.06957469],\n",
       "       [6.61725181],\n",
       "       [5.56639316],\n",
       "       [5.31250298],\n",
       "       [5.64504983],\n",
       "       [6.58190145],\n",
       "       [5.2350874 ],\n",
       "       [5.45468658],\n",
       "       [6.14458879],\n",
       "       [4.95860814],\n",
       "       [6.01649489],\n",
       "       [5.90520648],\n",
       "       [5.45993733],\n",
       "       [5.37064937],\n",
       "       [5.3055875 ],\n",
       "       [5.01648073],\n",
       "       [5.38379592],\n",
       "       [5.3654078 ],\n",
       "       [6.37475313],\n",
       "       [5.69695783],\n",
       "       [5.53490207],\n",
       "       [5.42580462],\n",
       "       [5.13557151],\n",
       "       [5.42132557],\n",
       "       [6.48575474],\n",
       "       [5.73150796],\n",
       "       [6.08194677],\n",
       "       [5.58893302],\n",
       "       [5.91320832],\n",
       "       [6.60706202],\n",
       "       [4.83306679],\n",
       "       [6.049361  ],\n",
       "       [6.16002101],\n",
       "       [5.7042624 ],\n",
       "       [6.13167498],\n",
       "       [5.05738395],\n",
       "       [6.31448147],\n",
       "       [5.39319613],\n",
       "       [6.0848286 ],\n",
       "       [5.69054644],\n",
       "       [5.25690794],\n",
       "       [5.4592767 ],\n",
       "       [6.41562824],\n",
       "       [4.99422061],\n",
       "       [5.44124407],\n",
       "       [5.62061754],\n",
       "       [5.56090711],\n",
       "       [5.41029286],\n",
       "       [6.10419037],\n",
       "       [5.34071311],\n",
       "       [5.27983673],\n",
       "       [5.93550128],\n",
       "       [6.18385525],\n",
       "       [5.62509974],\n",
       "       [5.78652513],\n",
       "       [6.22738697],\n",
       "       [5.82937894],\n",
       "       [5.09100188],\n",
       "       [5.45243315],\n",
       "       [5.56145092],\n",
       "       [5.56537383],\n",
       "       [6.10787936],\n",
       "       [5.5629643 ],\n",
       "       [6.00357577],\n",
       "       [5.63224881],\n",
       "       [6.51316852],\n",
       "       [5.49973641],\n",
       "       [5.15436246],\n",
       "       [6.41381416],\n",
       "       [5.39480695],\n",
       "       [5.86500293],\n",
       "       [5.49024335],\n",
       "       [5.91847313],\n",
       "       [5.77182663],\n",
       "       [5.40855507]])"
      ]
     },
     "execution_count": 15,
     "metadata": {},
     "output_type": "execute_result"
    }
   ],
   "source": [
    "prediction"
   ]
  },
  {
   "cell_type": "code",
   "execution_count": 16,
   "metadata": {},
   "outputs": [
    {
     "data": {
      "image/png": "[encoded data removed]",
      "text/plain": [
       "<Figure size 432x288 with 1 Axes>"
      ]
     },
     "metadata": {},
     "output_type": "display_data"
    }
   ],
   "source": [
    "plt.plot(y_test,prediction)\n",
    "plt.show()"
   ]
  },
  {
   "cell_type": "code",
   "execution_count": 17,
   "metadata": {},
   "outputs": [
    {
     "data": {
      "text/plain": [
       "0.4000725270850554"
      ]
     },
     "execution_count": 17,
     "metadata": {},
     "output_type": "execute_result"
    }
   ],
   "source": [
    "from sklearn.metrics import mean_squared_error,r2_score\n",
    "mean_squared_error(y_test,prediction)"
   ]
  },
  {
   "cell_type": "code",
   "execution_count": 18,
   "metadata": {},
   "outputs": [
    {
     "data": {
      "text/plain": [
       "0.34542438124562735"
      ]
     },
     "execution_count": 18,
     "metadata": {},
     "output_type": "execute_result"
    }
   ],
   "source": [
    "r2_score(y_test,prediction)"
   ]
  },
  {
   "cell_type": "code",
   "execution_count": 19,
   "metadata": {},
   "outputs": [
    {
     "data": {
      "text/plain": [
       "0.6325128671300335"
      ]
     },
     "execution_count": 19,
     "metadata": {},
     "output_type": "execute_result"
    }
   ],
   "source": [
    "mean_squared_error(y_test,prediction)**(1/2)"
   ]
  },
  {
   "cell_type": "code",
   "execution_count": 20,
   "metadata": {},
   "outputs": [
    {
     "data": {
      "text/plain": [
       "(1599, 12)"
      ]
     },
     "execution_count": 20,
     "metadata": {},
     "output_type": "execute_result"
    }
   ],
   "source": [
    "data.shape"
   ]
  },
  {
   "cell_type": "code",
   "execution_count": 31,
   "metadata": {},
   "outputs": [],
   "source": [
    "prediction = reg_model.predict(np.array([[1,2,3,4,5,6,7,8,9,10,11]]).reshape(1,-1))"
   ]
  },
  {
   "cell_type": "code",
   "execution_count": 32,
   "metadata": {},
   "outputs": [],
   "source": [
    "output = prediction[0]"
   ]
  },
  {
   "cell_type": "code",
   "execution_count": 33,
   "metadata": {},
   "outputs": [
    {
     "data": {
      "text/plain": [
       "-138.35"
      ]
     },
     "execution_count": 33,
     "metadata": {},
     "output_type": "execute_result"
    }
   ],
   "source": [
    "round(float(output),2)"
   ]
  },
  {
   "cell_type": "code",
   "execution_count": null,
   "metadata": {},
   "outputs": [],
   "source": []
  }
 ],
 "metadata": {
  "kernelspec": {
   "display_name": "Python 3",
   "language": "python",
   "name": "python3"
  },
  "language_info": {
   "codemirror_mode": {
    "name": "ipython",
    "version": 3
   },
   "file_extension": ".py",
   "mimetype": "text/x-python",
   "name": "python",
   "nbconvert_exporter": "python",
   "pygments_lexer": "ipython3",
   "version": "3.7.6"
  }
 },
 "nbformat": 4,
 "nbformat_minor": 2
}
